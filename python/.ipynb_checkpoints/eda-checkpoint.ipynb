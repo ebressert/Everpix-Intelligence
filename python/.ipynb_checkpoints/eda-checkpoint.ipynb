{
 "cells": [
  {
   "cell_type": "code",
   "execution_count": 39,
   "metadata": {
    "collapsed": true
   },
   "outputs": [],
   "source": [
    "from __future__ import division\n",
    "from collections import OrderedDict\n",
    "import datetime\n",
    "import dateutil\n",
    "import warnings\n",
    "import string\n",
    "import numpy as np\n",
    "import pandas as pd\n",
    "from pandas.io import sql\n",
    "import seaborn as sns\n",
    "import matplotlib.pyplot as plt\n",
    "\n",
    "%matplotlib inline\n",
    "sns.set(style=\"white\")\n",
    "warnings.filterwarnings('ignore')\n",
    "\n",
    "def column_cleaner(df, inplace=False):\n",
    "    \"\"\"\n",
    "    Clean up column names where white spaces are trimmed and replaced. \n",
    "    All column names are lowercased for sanity. \n",
    "    \"\"\"\n",
    "    orig_cols = df.columns\n",
    "    new_cols = []\n",
    "    \n",
    "    for col in orig_cols:\n",
    "        new_cols.append(\"\".join([c if c.isalnum() else \"_\" for c in col.strip()]).lower())\n",
    "    \n",
    "    record = dict(zip(orig_cols, new_cols))\n",
    "    \n",
    "    if not inplace:\n",
    "        df = df.rename(columns=record, inplace=inplace)\n",
    "        return df\n",
    "    \n",
    "    else:\n",
    "        df.rename(columns=record, inplace=inplace)"
   ]
  },
  {
   "cell_type": "markdown",
   "metadata": {
    "collapsed": true
   },
   "source": [
    "#Exploration\n",
    "Currently exploring base level files to see what's in them. "
   ]
  },
  {
   "cell_type": "code",
   "execution_count": 5,
   "metadata": {
    "collapsed": false
   },
   "outputs": [
    {
     "name": "stdout",
     "output_type": "stream",
     "text": [
      "\u001b[34mR\u001b[m\u001b[m                       \u001b[34mexternal_metrics\u001b[m\u001b[m        \u001b[34minvestor_reports\u001b[m\u001b[m        \u001b[34mpublic_feedback\u001b[m\u001b[m         timeline_and_numbers.md\r\n",
      "README.md               \u001b[34minternal_metrics\u001b[m\u001b[m        press_coverage.csv      \u001b[34mpython\u001b[m\u001b[m\r\n"
     ]
    }
   ],
   "source": [
    "!ls ../"
   ]
  },
  {
   "cell_type": "code",
   "execution_count": 40,
   "metadata": {
    "collapsed": false
   },
   "outputs": [
    {
     "name": "stdout",
     "output_type": "stream",
     "text": [
      "(108, 4)\n",
      "Index([u'Date', u'Website', u'URL', u'Snippet'], dtype='object')\n"
     ]
    }
   ],
   "source": [
    "press = pd.read_csv('../press_coverage.csv')\n",
    "print press.shape\n",
    "print press.columns\n",
    "\n",
    "press = column_cleaner(press)"
   ]
  },
  {
   "cell_type": "code",
   "execution_count": 63,
   "metadata": {
    "collapsed": false
   },
   "outputs": [],
   "source": [
    "press.date = pd.to_datetime(press.date)\n",
    "press['empty'] = 1\n",
    "timeline = press[['date', 'empty']]"
   ]
  },
  {
   "cell_type": "code",
   "execution_count": 64,
   "metadata": {
    "collapsed": false
   },
   "outputs": [
    {
     "data": {
      "text/plain": [
       "<matplotlib.axes._subplots.AxesSubplot at 0x10a5e4090>"
      ]
     },
     "execution_count": 64,
     "metadata": {},
     "output_type": "execute_result"
    },
    {
     "data": {
      "image/png": "[encoded data removed]",
      "text/plain": [
       "<matplotlib.figure.Figure at 0x10b0eb7d0>"
      ]
     },
     "metadata": {},
     "output_type": "display_data"
    }
   ],
   "source": [
    "timeline.plot(x='date', y='empty', marker='o', grid=False)"
   ]
  },
  {
   "cell_type": "code",
   "execution_count": 65,
   "metadata": {
    "collapsed": false
   },
   "outputs": [],
   "source": [
    "ext1 = pd.read_csv('../external_metrics/aws_billing_from_2012_10.csv')"
   ]
  },
  {
   "cell_type": "code",
   "execution_count": 66,
   "metadata": {
    "collapsed": false
   },
   "outputs": [
    {
     "data": {
      "text/html": [
       "<div style=\"max-height:1000px;max-width:1500px;overflow:auto;\">\n",
       "<table border=\"1\" class=\"dataframe\">\n",
       "  <thead>\n",
       "    <tr style=\"text-align: right;\">\n",
       "      <th></th>\n",
       "      <th>BillingPeriodStartDate</th>\n",
       "      <th>BillingPeriodEndDate</th>\n",
       "      <th>ProductCode</th>\n",
       "      <th>ProductName</th>\n",
       "      <th>UsageType</th>\n",
       "      <th>Operation</th>\n",
       "      <th>RateId</th>\n",
       "      <th>UsageStartDate</th>\n",
       "      <th>UsageEndDate</th>\n",
       "      <th>UsageQuantity</th>\n",
       "      <th>CurrencyCode</th>\n",
       "      <th>TotalCost</th>\n",
       "    </tr>\n",
       "  </thead>\n",
       "  <tbody>\n",
       "    <tr>\n",
       "      <th>0</th>\n",
       "      <td> 2012/10/01 00:00:00</td>\n",
       "      <td> 2012/10/31 23:59:59</td>\n",
       "      <td>        AmazonEC2</td>\n",
       "      <td>  Amazon Elastic Compute Cloud</td>\n",
       "      <td>          CW:MetricMonitorUsage</td>\n",
       "      <td>         MetricStorage</td>\n",
       "      <td> 750042</td>\n",
       "      <td> 2012/10/01 00:00:00</td>\n",
       "      <td> 2012/10/31 23:59:59</td>\n",
       "      <td>    10.000000</td>\n",
       "      <td> USD</td>\n",
       "      <td>    0.00</td>\n",
       "    </tr>\n",
       "    <tr>\n",
       "      <th>1</th>\n",
       "      <td> 2012/10/01 00:00:00</td>\n",
       "      <td> 2012/10/31 23:59:59</td>\n",
       "      <td>         AmazonS3</td>\n",
       "      <td> Amazon Simple Storage Service</td>\n",
       "      <td>           TimedStorage-ByteHrs</td>\n",
       "      <td>                   NaN</td>\n",
       "      <td> 279228</td>\n",
       "      <td> 2012/10/01 00:00:00</td>\n",
       "      <td> 2012/10/31 23:59:59</td>\n",
       "      <td> 12049.444607</td>\n",
       "      <td> USD</td>\n",
       "      <td> 1325.44</td>\n",
       "    </tr>\n",
       "    <tr>\n",
       "      <th>2</th>\n",
       "      <td> 2012/10/01 00:00:00</td>\n",
       "      <td> 2012/10/31 23:59:59</td>\n",
       "      <td>        AmazonRDS</td>\n",
       "      <td>            Amazon RDS Service</td>\n",
       "      <td> Multi-AZHeavyUsage:db.m1.small</td>\n",
       "      <td> CreateDBInstance:0002</td>\n",
       "      <td> 323650</td>\n",
       "      <td> 2012/10/01 00:00:00</td>\n",
       "      <td> 2012/10/31 23:59:59</td>\n",
       "      <td>   744.000000</td>\n",
       "      <td> USD</td>\n",
       "      <td>   40.18</td>\n",
       "    </tr>\n",
       "    <tr>\n",
       "      <th>3</th>\n",
       "      <td> 2012/10/01 00:00:00</td>\n",
       "      <td> 2012/10/31 23:59:59</td>\n",
       "      <td> AmazonCloudFront</td>\n",
       "      <td>             Amazon CloudFront</td>\n",
       "      <td>        AU-Requests-Tier2-HTTPS</td>\n",
       "      <td>                   NaN</td>\n",
       "      <td> 575504</td>\n",
       "      <td> 2012/10/01 00:00:00</td>\n",
       "      <td> 2012/10/31 23:59:59</td>\n",
       "      <td> 32766.000000</td>\n",
       "      <td> USD</td>\n",
       "      <td>    0.04</td>\n",
       "    </tr>\n",
       "    <tr>\n",
       "      <th>4</th>\n",
       "      <td> 2012/10/01 00:00:00</td>\n",
       "      <td> 2012/10/31 23:59:59</td>\n",
       "      <td> AmazonCloudFront</td>\n",
       "      <td>             Amazon CloudFront</td>\n",
       "      <td>              EU-Requests-Tier1</td>\n",
       "      <td>                   GET</td>\n",
       "      <td> 575499</td>\n",
       "      <td> 2012/10/01 00:00:00</td>\n",
       "      <td> 2012/10/31 23:59:59</td>\n",
       "      <td> 13282.000000</td>\n",
       "      <td> USD</td>\n",
       "      <td>    0.01</td>\n",
       "    </tr>\n",
       "  </tbody>\n",
       "</table>\n",
       "</div>"
      ],
      "text/plain": [
       "  BillingPeriodStartDate BillingPeriodEndDate       ProductCode  \\\n",
       "0    2012/10/01 00:00:00  2012/10/31 23:59:59         AmazonEC2   \n",
       "1    2012/10/01 00:00:00  2012/10/31 23:59:59          AmazonS3   \n",
       "2    2012/10/01 00:00:00  2012/10/31 23:59:59         AmazonRDS   \n",
       "3    2012/10/01 00:00:00  2012/10/31 23:59:59  AmazonCloudFront   \n",
       "4    2012/10/01 00:00:00  2012/10/31 23:59:59  AmazonCloudFront   \n",
       "\n",
       "                     ProductName                       UsageType  \\\n",
       "0   Amazon Elastic Compute Cloud           CW:MetricMonitorUsage   \n",
       "1  Amazon Simple Storage Service            TimedStorage-ByteHrs   \n",
       "2             Amazon RDS Service  Multi-AZHeavyUsage:db.m1.small   \n",
       "3              Amazon CloudFront         AU-Requests-Tier2-HTTPS   \n",
       "4              Amazon CloudFront               EU-Requests-Tier1   \n",
       "\n",
       "               Operation  RateId       UsageStartDate         UsageEndDate  \\\n",
       "0          MetricStorage  750042  2012/10/01 00:00:00  2012/10/31 23:59:59   \n",
       "1                    NaN  279228  2012/10/01 00:00:00  2012/10/31 23:59:59   \n",
       "2  CreateDBInstance:0002  323650  2012/10/01 00:00:00  2012/10/31 23:59:59   \n",
       "3                    NaN  575504  2012/10/01 00:00:00  2012/10/31 23:59:59   \n",
       "4                    GET  575499  2012/10/01 00:00:00  2012/10/31 23:59:59   \n",
       "\n",
       "   UsageQuantity CurrencyCode  TotalCost  \n",
       "0      10.000000          USD       0.00  \n",
       "1   12049.444607          USD    1325.44  \n",
       "2     744.000000          USD      40.18  \n",
       "3   32766.000000          USD       0.04  \n",
       "4   13282.000000          USD       0.01  "
      ]
     },
     "execution_count": 66,
     "metadata": {},
     "output_type": "execute_result"
    }
   ],
   "source": [
    "ext1.head()"
   ]
  },
  {
   "cell_type": "code",
   "execution_count": null,
   "metadata": {
    "collapsed": true
   },
   "outputs": [],
   "source": []
  }
 ],
 "metadata": {
  "kernelspec": {
   "display_name": "Python 2",
   "language": "python",
   "name": "python2"
  },
  "language_info": {
   "codemirror_mode": {
    "name": "ipython",
    "version": 2
   },
   "file_extension": ".py",
   "mimetype": "text/x-python",
   "name": "python",
   "nbconvert_exporter": "python",
   "pygments_lexer": "ipython2",
   "version": "2.7.9"
  }
 },
 "nbformat": 4,
 "nbformat_minor": 0
}
